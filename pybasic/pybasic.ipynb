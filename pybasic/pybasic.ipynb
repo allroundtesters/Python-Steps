{
 "cells": [
  {
   "cell_type": "markdown",
   "metadata": {},
   "source": [
    "## Python Data Type\n",
    "\n",
    "- int 整数\n",
    "- float 浮点数\n",
    "- string 字符串\n",
    "- None NoneType\n",
    "- boolean: True or False\n",
    "- dict/list/set\n",
    "- ......"
   ]
  },
  {
   "cell_type": "code",
   "execution_count": 9,
   "metadata": {
    "collapsed": false
   },
   "outputs": [
    {
     "name": "stdout",
     "output_type": "stream",
     "text": [
      "<class 'int'>\n",
      "<class 'float'>\n",
      "<class 'str'>\n",
      "<class 'str'>\n",
      "<class 'str'>\n",
      "<class 'str'>\n",
      "<class 'NoneType'>\n",
      "<class 'bool'>\n",
      "<class 'dict'>\n",
      "<class 'list'>\n",
      "<class 'set'>\n"
     ]
    }
   ],
   "source": [
    "print(type(123))\n",
    "print(type(12.0))\n",
    "print(type('string'))\n",
    "print(type(\"string\"))\n",
    "print(type('s'))\n",
    "print(type(\"s\"))\n",
    "print(type(None))\n",
    "print(type(True))\n",
    "print(type({}))\n",
    "demo = []\n",
    "print(type(demo))\n",
    "print(type(set([])))"
   ]
  },
  {
   "cell_type": "markdown",
   "metadata": {},
   "source": [
    "## Python variable\n",
    "\n",
    "定义变量："
   ]
  },
  {
   "cell_type": "code",
   "execution_count": 3,
   "metadata": {
    "collapsed": false
   },
   "outputs": [
    {
     "name": "stdout",
     "output_type": "stream",
     "text": [
      "10\n",
      "<class 'int'>\n",
      "<class 'str'>\n"
     ]
    }
   ],
   "source": [
    "x=10\n",
    "print(x)\n",
    "print(type(x))\n",
    "x=\"98932\"\n",
    "print(type(x)) ## x 类型不固定"
   ]
  },
  {
   "cell_type": "markdown",
   "metadata": {},
   "source": [
    "## Python Encoding\n",
    "\n",
    "- 计算机内存保存Unicode，保存到硬盘为utf-8/或者输出至网页也是utf-8\n",
    "- ascii 1个字节/unicode 2 个字节/可变长unicode"
   ]
  },
  {
   "cell_type": "code",
   "execution_count": 4,
   "metadata": {
    "collapsed": false
   },
   "outputs": [
    {
     "name": "stdout",
     "output_type": "stream",
     "text": [
      "中文\n",
      "chinese\n"
     ]
    }
   ],
   "source": [
    "print(\"中文\")\n",
    "print(\"chinese\")"
   ]
  },
  {
   "cell_type": "code",
   "execution_count": 11,
   "metadata": {
    "collapsed": false
   },
   "outputs": [
    {
     "name": "stdout",
     "output_type": "stream",
     "text": [
      "97\n",
      "ಫ\n"
     ]
    }
   ],
   "source": [
    "print(ord('a'))\n",
    "print(chr(3243))"
   ]
  },
  {
   "cell_type": "code",
   "execution_count": 12,
   "metadata": {
    "collapsed": false
   },
   "outputs": [
    {
     "name": "stdout",
     "output_type": "stream",
     "text": [
      "b'abcd'\n",
      "<class 'bytes'>\n"
     ]
    }
   ],
   "source": [
    "print(b'abcd') # bytes\n",
    "print(type(b'abcd'))"
   ]
  },
  {
   "cell_type": "code",
   "execution_count": 11,
   "metadata": {
    "collapsed": false
   },
   "outputs": [
    {
     "name": "stdout",
     "output_type": "stream",
     "text": [
      "b'ABC'\n",
      "b'ABC'\n",
      "b'\\xe4\\xb8\\xad\\xe6\\x96\\x87'\n"
     ]
    },
    {
     "ename": "UnicodeEncodeError",
     "evalue": "'ascii' codec can't encode characters in position 0-1: ordinal not in range(128)",
     "traceback": [
      "\u001b[0;31m---------------------------------------------------------------------------\u001b[0m",
      "\u001b[0;31mUnicodeEncodeError\u001b[0m                        Traceback (most recent call last)",
      "\u001b[0;32m<ipython-input-11-de2bf7b5994c>\u001b[0m in \u001b[0;36m<module>\u001b[0;34m()\u001b[0m\n\u001b[1;32m      2\u001b[0m \u001b[0mprint\u001b[0m\u001b[0;34m(\u001b[0m\u001b[0;34m'ABC'\u001b[0m\u001b[0;34m.\u001b[0m\u001b[0mencode\u001b[0m\u001b[0;34m(\u001b[0m\u001b[0;34m'utf-8'\u001b[0m\u001b[0;34m)\u001b[0m\u001b[0;34m)\u001b[0m\u001b[0;34m\u001b[0m\u001b[0m\n\u001b[1;32m      3\u001b[0m \u001b[0mprint\u001b[0m\u001b[0;34m(\u001b[0m\u001b[0;34m'中文'\u001b[0m\u001b[0;34m.\u001b[0m\u001b[0mencode\u001b[0m\u001b[0;34m(\u001b[0m\u001b[0;34m'utf-8'\u001b[0m\u001b[0;34m)\u001b[0m\u001b[0;34m)\u001b[0m\u001b[0;34m\u001b[0m\u001b[0m\n\u001b[0;32m----> 4\u001b[0;31m \u001b[0mprint\u001b[0m\u001b[0;34m(\u001b[0m\u001b[0;34m'中文'\u001b[0m\u001b[0;34m.\u001b[0m\u001b[0mencode\u001b[0m\u001b[0;34m(\u001b[0m\u001b[0;34m'ascii'\u001b[0m\u001b[0;34m)\u001b[0m\u001b[0;34m)\u001b[0m\u001b[0;34m\u001b[0m\u001b[0m\n\u001b[0m",
      "\u001b[0;31mUnicodeEncodeError\u001b[0m: 'ascii' codec can't encode characters in position 0-1: ordinal not in range(128)"
     ],
     "output_type": "error"
    }
   ],
   "source": [
    "print('ABC'.encode('ascii'))\n",
    "print('ABC'.encode('utf-8'))\n",
    "print('中文'.encode('utf-8'))\n",
    "print('中文'.encode('ascii'))"
   ]
  },
  {
   "cell_type": "code",
   "execution_count": 13,
   "metadata": {
    "collapsed": false
   },
   "outputs": [
    {
     "name": "stdout",
     "output_type": "stream",
     "text": [
      "acc\n",
      "中文\n"
     ]
    }
   ],
   "source": [
    "print(b'acc'.decode('ascii'))\n",
    "print(b'\\xe4\\xb8\\xad\\xe6\\x96\\x87'.decode('utf-8',errors='ignore'))"
   ]
  },
  {
   "cell_type": "code",
   "execution_count": 27,
   "metadata": {
    "collapsed": false
   },
   "outputs": [
    {
     "name": "stdout",
     "output_type": "stream",
     "text": [
      "5\n",
      "3\n",
      "9\n"
     ]
    }
   ],
   "source": [
    "print(len('abc中文'))\n",
    "print(len('abc'))\n",
    "print(len(('abc中文').encode('utf-8')))"
   ]
  },
  {
   "cell_type": "markdown",
   "metadata": {},
   "source": [
    "- Tips: 强制python文件UTF-8编码\n",
    "\n",
    "```python\n",
    "# -*-* coding:utf-8 -*-\n",
    "```\n",
    "\n",
    "## Python字符串Format"
   ]
  },
  {
   "cell_type": "code",
   "execution_count": 18,
   "metadata": {
    "collapsed": false
   },
   "outputs": [
    {
     "name": "stdout",
     "output_type": "stream",
     "text": [
      "3.14\n",
      "this is \n",
      " 3- 1\n",
      "s1-s2\n",
      "t1=t2\n"
     ]
    }
   ],
   "source": [
    "print('%.2f' % 3.1415926)\n",
    "s1=\"this is \"\n",
    "s2=\"%2d-%2d\"%(3,1)\n",
    "s3=\"%s-%s\"%(\"s1\",\"s2\")\n",
    "s4 = \"{s1}={s2}\"\n",
    "print(s1)\n",
    "print(s2)\n",
    "print(s3)\n",
    "print(\"{s1}={s2}\".format(s1=\"t1\",s2=\"t2\"))"
   ]
  },
  {
   "cell_type": "markdown",
   "metadata": {},
   "source": [
    "## Python list/tuple\n",
    "\n",
    "- list: 集合，添加删除其中元素,可以重复的值\n",
    "- tuple：元组，可以理解和list类似\n",
    "- list 的访问: 下标(index)访问/append 添加/pop()\n",
    "- list的属性\n",
    "- list 切片(slice)"
   ]
  },
  {
   "cell_type": "code",
   "execution_count": 27,
   "metadata": {
    "collapsed": false
   },
   "outputs": [
    {
     "name": "stdout",
     "output_type": "stream",
     "text": [
      "3\n",
      "apple\n",
      "w\n",
      "['apple', 'banana', 'orange', 'watermelon', 'k1']\n",
      "5\n",
      "k1\n",
      "4\n",
      "===========list slice===========\n",
      "['banana', 'orange']\n",
      "['banana']\n",
      "['apple', 'banana', 'orange']\n",
      "['apple', 'banana']\n",
      "['apple', 'banana', 'orange']\n",
      "['orange', 'watermelon']\n",
      "['a', 'm', 's']\n",
      "b\n",
      "[['a', 'm', 's'], ['j', 'p', 'r', 'p'], ['a', 'b', 'l'], ['ads', 'ds'], ['ds', 'ds']]\n"
     ]
    }
   ],
   "source": [
    "fruit_list = ['apple','banana','orange']\n",
    "print(len(fruit_list))\n",
    "print(fruit_list[0])\n",
    "fruit_list.append('watermelon')\n",
    "fruit_list.extend({\"k1\":\"v1\"})\n",
    "print('water'[0])\n",
    "print(fruit_list)\n",
    "print(len(fruit_list))\n",
    "print(fruit_list.pop())\n",
    "print(len(fruit_list))\n",
    "print(\"===========list slice===========\")\n",
    "print(fruit_list[1:3]) \n",
    "print(fruit_list[1:2])\n",
    "print(fruit_list[:-1])\n",
    "print(fruit_list[:-2])\n",
    "print(fruit_list[:3])\n",
    "print(fruit_list[2:])\n",
    "matrix_2 = [\n",
    "    ['a','m','s'],\n",
    "    ['j','p','r','p'],\n",
    "    ['a','b','l']\n",
    "]\n",
    "print(matrix_2[0])\n",
    "print(matrix_2[2][1])\n",
    "matrix_2.extend([['ads','ds'],['ds','ds']])\n",
    "print(matrix_2)"
   ]
  },
  {
   "cell_type": "markdown",
   "metadata": {},
   "source": [
    "## Python tuple\n",
    "\n",
    "- tuple 定义\n",
    "- tuple 操作，类似list\n",
    "- tuple 不能append"
   ]
  },
  {
   "cell_type": "code",
   "execution_count": 34,
   "metadata": {
    "collapsed": false
   },
   "outputs": [
    {
     "name": "stdout",
     "output_type": "stream",
     "text": [
      "2\n",
      "34\n",
      "345\n",
      "67\n"
     ]
    },
    {
     "ename": "AttributeError",
     "evalue": "'tuple' object has no attribute 'extend'",
     "traceback": [
      "\u001b[0;31m---------------------------------------------------------------------------\u001b[0m",
      "\u001b[0;31mAttributeError\u001b[0m                            Traceback (most recent call last)",
      "\u001b[0;32m<ipython-input-34-d952a3d80fb5>\u001b[0m in \u001b[0;36m<module>\u001b[0;34m()\u001b[0m\n\u001b[1;32m      6\u001b[0m \u001b[0mt3\u001b[0m\u001b[0;34m=\u001b[0m\u001b[0;34m(\u001b[0m\u001b[0;36m1\u001b[0m\u001b[0;34m,\u001b[0m\u001b[0;34m[\u001b[0m\u001b[0;36m23\u001b[0m\u001b[0;34m,\u001b[0m\u001b[0;36m45\u001b[0m\u001b[0;34m,\u001b[0m\u001b[0;36m67\u001b[0m\u001b[0;34m]\u001b[0m\u001b[0;34m,\u001b[0m\u001b[0;34m[\u001b[0m\u001b[0;36m4\u001b[0m\u001b[0;34m,\u001b[0m\u001b[0;36m67\u001b[0m\u001b[0;34m,\u001b[0m\u001b[0;36m90\u001b[0m\u001b[0;34m]\u001b[0m\u001b[0;34m)\u001b[0m\u001b[0;34m\u001b[0m\u001b[0m\n\u001b[1;32m      7\u001b[0m \u001b[0mprint\u001b[0m\u001b[0;34m(\u001b[0m\u001b[0mt3\u001b[0m\u001b[0;34m[\u001b[0m\u001b[0;36m2\u001b[0m\u001b[0;34m]\u001b[0m\u001b[0;34m[\u001b[0m\u001b[0;36m1\u001b[0m\u001b[0;34m]\u001b[0m\u001b[0;34m)\u001b[0m\u001b[0;34m\u001b[0m\u001b[0m\n\u001b[0;32m----> 8\u001b[0;31m \u001b[0mprint\u001b[0m\u001b[0;34m(\u001b[0m\u001b[0mt1\u001b[0m\u001b[0;34m.\u001b[0m\u001b[0mextend\u001b[0m\u001b[0;34m(\u001b[0m\u001b[0;34m[\u001b[0m\u001b[0;36m1\u001b[0m\u001b[0;34m,\u001b[0m\u001b[0;36m2\u001b[0m\u001b[0;34m]\u001b[0m\u001b[0;34m)\u001b[0m\u001b[0;34m)\u001b[0m \u001b[0;31m## error\u001b[0m\u001b[0;34m\u001b[0m\u001b[0m\n\u001b[0m\u001b[1;32m      9\u001b[0m \u001b[0mprint\u001b[0m\u001b[0;34m(\u001b[0m\u001b[0mt1\u001b[0m\u001b[0;34m.\u001b[0m\u001b[0mappend\u001b[0m\u001b[0;34m(\u001b[0m\u001b[0;36m4\u001b[0m\u001b[0;34m)\u001b[0m\u001b[0;34m)\u001b[0m \u001b[0;31m## error\u001b[0m\u001b[0;34m\u001b[0m\u001b[0m\n\u001b[1;32m     10\u001b[0m \u001b[0mprint\u001b[0m\u001b[0;34m(\u001b[0m\u001b[0mt1\u001b[0m\u001b[0;34m)\u001b[0m\u001b[0;34m\u001b[0m\u001b[0m\n",
      "\u001b[0;31mAttributeError\u001b[0m: 'tuple' object has no attribute 'extend'"
     ],
     "output_type": "error"
    }
   ],
   "source": [
    "t1=(2,34)\n",
    "print(t1[0])\n",
    "print(t1[1])\n",
    "t2=(2,[23,345])\n",
    "print(t2[1][1])\n",
    "t3=(1,[23,45,67],[4,67,90])\n",
    "print(t3[2][1])\n",
    "print(t1.extend([1,2])) ## error\n",
    "print(t1.append(4)) ## error\n",
    "print(t1)"
   ]
  },
  {
   "cell_type": "markdown",
   "metadata": {},
   "source": [
    "## Python Control Flow\n",
    "\n",
    "- if/else/elif\n",
    "- for-in/for\n",
    "- while\n",
    "- break\n",
    "- continue"
   ]
  },
  {
   "cell_type": "code",
   "execution_count": 59,
   "metadata": {
    "collapsed": false
   },
   "outputs": [
    {
     "name": "stdout",
     "output_type": "stream",
     "text": [
      "0\n",
      "1\n",
      "2\n",
      "3\n",
      "==== for in loop=======\n",
      "1\n",
      "2\n",
      "3\n",
      "4\n",
      "5\n",
      "6\n",
      "7\n",
      "8\n",
      "9\n"
     ]
    }
   ],
   "source": [
    "n=0\n",
    "while n<10:\n",
    "    print(n)\n",
    "    n=n+1\n",
    "    if n%3==0:\n",
    "        continue\n",
    "    if n%4==0:\n",
    "        break\n",
    "\n",
    "print(\"==== for in loop=======\")\n",
    "for i in range(1,10):\n",
    "    print(i)\n",
    "\n",
    "# for(i=0;i<10;i++): # error python not support\n",
    "#     print(i)"
   ]
  },
  {
   "cell_type": "markdown",
   "metadata": {},
   "source": [
    "## Python dict \n",
    "\n",
    "- 键值对 key/value pair\n",
    "- dict 访问/扩展\n",
    "- key 是不可变对象(list/set/dict不能作为key)"
   ]
  },
  {
   "cell_type": "code",
   "execution_count": 71,
   "metadata": {
    "collapsed": false
   },
   "outputs": [
    {
     "name": "stdout",
     "output_type": "stream",
     "text": [
      "{'k1': 'v1', 'k2': 'v2'}\n",
      "<class 'dict'>\n",
      "2\n",
      "v1\n",
      "none\n",
      "'k3'\n",
      "k1=v1\n",
      "k2=v2\n",
      "{'k1': 'v1', 'k2': 'v2', 'k3': 'v3', 'k4': 'v4'}\n"
     ]
    }
   ],
   "source": [
    "dict_demo = {\"k1\":\"v1\",\"k2\":\"v2\"}\n",
    "print(dict_demo)\n",
    "print(type(dict_demo))\n",
    "print(len(dict_demo))\n",
    "print(dict_demo[\"k1\"])\n",
    "print(dict_demo.get(\"k3\",\"none\"))\n",
    "try:\n",
    "    print(dict_demo[\"k3\"]) ## keyindex error\n",
    "except Exception as e:\n",
    "    print(e)\n",
    "for k,v in dict_demo.items():\n",
    "    print(\"{key}={value}\".format(key=k,value=v))\n",
    "\n",
    "dict_demo.update({\"k3\":\"v3\"})\n",
    "dict_demo[\"k4\"]=\"v4\"\n",
    "print(dict_demo)\n",
    "\n"
   ]
  },
  {
   "cell_type": "markdown",
   "metadata": {},
   "source": [
    "## python set\n",
    "\n",
    "- set 不可重复\n",
    "- set 值是不可变\n",
    "- 其他操作类似约list"
   ]
  },
  {
   "cell_type": "code",
   "execution_count": 83,
   "metadata": {
    "collapsed": false
   },
   "outputs": [
    {
     "name": "stdout",
     "output_type": "stream",
     "text": [
      "{1, 2, 3, 4, 5}\n",
      "{1, 2, 3, 4, 9}\n",
      "None\n",
      "None\n",
      "{2, 3, 4}\n",
      "{1, 2, 3, 4, 100, 5, 9}\n"
     ]
    }
   ],
   "source": [
    "set_demo = set([1,2,3,9])\n",
    "set_demo.add(4)\n",
    "set_demo.add(2)\n",
    "set_demo2= set([1,2,3,4,3,4,5])\n",
    "print(set_demo2)\n",
    "print(set_demo)\n",
    "print(set_demo.add(100))\n",
    "print(set_demo.remove(1))\n",
    "print(set_demo & set_demo2)\n",
    "print(set_demo | set_demo2)"
   ]
  },
  {
   "cell_type": "code",
   "execution_count": null,
   "metadata": {
    "collapsed": true
   },
   "outputs": [],
   "source": []
  }
 ],
 "metadata": {
  "kernelspec": {
   "display_name": "Python 3",
   "language": "python",
   "name": "python3"
  },
  "language_info": {
   "codemirror_mode": {
    "name": "ipython",
    "version": 3
   },
   "file_extension": ".py",
   "mimetype": "text/x-python",
   "name": "python",
   "nbconvert_exporter": "python",
   "pygments_lexer": "ipython3",
   "version": "3.6.0"
  }
 },
 "nbformat": 4,
 "nbformat_minor": 2
}
