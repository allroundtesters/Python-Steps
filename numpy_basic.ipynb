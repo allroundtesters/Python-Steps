{
 "cells": [
  {
   "cell_type": "markdown",
   "metadata": {},
   "source": [
    "## Numpy Arrays\n",
    "\n",
    "- rank 1 array\n",
    "- rank 2 array"
   ]
  },
  {
   "cell_type": "code",
   "execution_count": 4,
   "metadata": {},
   "outputs": [
    {
     "name": "stdout",
     "output_type": "stream",
     "text": [
      "[12  3  4  5]\n",
      "(4,)\n",
      "12 3\n"
     ]
    }
   ],
   "source": [
    "import numpy as np\n",
    "a_1 = np.array([12,3,4,5])\n",
    "print(a_1)\n",
    "print(a_1.shape) # array shape\n",
    "print(a_1[0],a_1[1])"
   ]
  },
  {
   "cell_type": "code",
   "execution_count": 10,
   "metadata": {},
   "outputs": [
    {
     "name": "stdout",
     "output_type": "stream",
     "text": [
      "[[1 2 3 4]\n",
      " [4 3 2 1]]\n",
      "<class 'numpy.ndarray'>\n",
      "(2, 4)\n",
      "[1 2 3 4] 1 3\n"
     ]
    }
   ],
   "source": [
    "a_2 = np.array([[1,2,3,4],[4,3,2,1]])\n",
    "print(a_2)\n",
    "print(type(a_2))\n",
    "print(a_2.shape)\n",
    "print(a_2[0],a_2[0,0],a_2[1,1])"
   ]
  },
  {
   "cell_type": "markdown",
   "metadata": {},
   "source": [
    "## Numpy Arrays - creation\n",
    "\n",
    "- [numpy basic](https://docs.scipy.org/doc/numpy/user/basics.creation.html#arrays-creation)\n",
    "- [CS231n课程笔记翻译：Python Numpy教程](https://zhuanlan.zhihu.com/p/20878530?refer=intelligentunit)"
   ]
  },
  {
   "cell_type": "code",
   "execution_count": 16,
   "metadata": {},
   "outputs": [
    {
     "name": "stdout",
     "output_type": "stream",
     "text": [
      "(2, 3)\n",
      "[[0. 0. 0.]\n",
      " [0. 0. 0.]]\n",
      "[[1. 1. 1. 1.]\n",
      " [1. 1. 1. 1.]\n",
      " [1. 1. 1. 1.]]\n",
      "[[7 7]\n",
      " [7 7]]\n",
      "[[0.72734492 0.98691471 0.12618118 0.46682799]\n",
      " [0.34179401 0.38683268 0.65776491 0.64701091]\n",
      " [0.11957205 0.95714212 0.09489415 0.46504619]\n",
      " [0.17192758 0.90693754 0.93849813 0.97130198]]\n"
     ]
    }
   ],
   "source": [
    "z = np.zeros((2,3))\n",
    "print(z.shape)\n",
    "print(z)\n",
    "b = np.ones((3,4))\n",
    "print(b)\n",
    "c = np.full((2,2),7)\n",
    "print(c)\n",
    "r= np.random.random((4,4))\n",
    "print(r)"
   ]
  },
  {
   "cell_type": "code",
   "execution_count": null,
   "metadata": {},
   "outputs": [],
   "source": []
  }
 ],
 "metadata": {
  "kernelspec": {
   "display_name": "Python 3",
   "language": "python",
   "name": "python3"
  },
  "language_info": {
   "codemirror_mode": {
    "name": "ipython",
    "version": 3
   },
   "file_extension": ".py",
   "mimetype": "text/x-python",
   "name": "python",
   "nbconvert_exporter": "python",
   "pygments_lexer": "ipython3",
   "version": "3.6.4"
  }
 },
 "nbformat": 4,
 "nbformat_minor": 2
}
